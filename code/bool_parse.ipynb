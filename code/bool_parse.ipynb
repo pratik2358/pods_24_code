{
 "cells": [
  {
   "cell_type": "markdown",
   "metadata": {},
   "source": [
    "### Example for parsing an expression"
   ]
  },
  {
   "cell_type": "code",
   "execution_count": 8,
   "metadata": {},
   "outputs": [],
   "source": [
    "from dDC_compute import parse, print_all_nodes"
   ]
  },
  {
   "cell_type": "code",
   "execution_count": 9,
   "metadata": {},
   "outputs": [],
   "source": [
    "exp = (\"OR\" ,(\"AND\",\"A\",(\"NOT\", \"B\")),(\"AND\", \"B\", (\"NOT\",\"C\")))"
   ]
  },
  {
   "cell_type": "code",
   "execution_count": 10,
   "metadata": {},
   "outputs": [
    {
     "data": {
      "text/plain": [
       "('OR', ('AND', 'A', ('NOT', 'B')), ('AND', 'B', ('NOT', 'C')))"
      ]
     },
     "execution_count": 10,
     "metadata": {},
     "output_type": "execute_result"
    }
   ],
   "source": [
    "exp"
   ]
  },
  {
   "cell_type": "code",
   "execution_count": 11,
   "metadata": {},
   "outputs": [],
   "source": [
    "exp2 = (\"AND\",(\"OR\" ,(\"AND\",\"A\",(\"NOT\", \"B\")),(\"AND\", \"B\", (\"NOT\",\"C\"))),(\"OR\", \"A\", \"B\"))"
   ]
  },
  {
   "cell_type": "code",
   "execution_count": 12,
   "metadata": {},
   "outputs": [],
   "source": [
    "dd = parse(exp2, {}, [])"
   ]
  },
  {
   "cell_type": "code",
   "execution_count": 13,
   "metadata": {},
   "outputs": [
    {
     "data": {
      "text/plain": [
       "('AND',\n",
       " ('OR', ('AND', 'A', ('NOT', 'B')), ('AND', 'B', ('NOT', 'C'))),\n",
       " ('OR', 'A', 'B'))"
      ]
     },
     "execution_count": 13,
     "metadata": {},
     "output_type": "execute_result"
    }
   ],
   "source": [
    "(\"AND\",(\"OR\" ,(\"AND\",\"A\",(\"NOT\", \"B\")),(\"AND\", \"B\", (\"NOT\",\"C\"))),(\"OR\", \"A\", \"B\"))"
   ]
  },
  {
   "cell_type": "code",
   "execution_count": 14,
   "metadata": {},
   "outputs": [
    {
     "name": "stdout",
     "output_type": "stream",
     "text": [
      "('AND', ('OR', ('AND', 'A', ('NOT', 'B')), ('AND', 'B', ('NOT', 'C'))), ('OR', 'A', 'B')) 0\n",
      "('OR', ('AND', 'A', ('NOT', 'B')), ('AND', 'B', ('NOT', 'C'))) 2\n",
      "('AND', 'A', ('NOT', 'B')) 4\n",
      "A 6\n",
      "('NOT', 'B') 8\n",
      "B 10\n",
      "('AND', 'B', ('NOT', 'C')) 12\n",
      "B 10\n",
      "('NOT', 'C') 14\n",
      "C 16\n",
      "('OR', 'A', 'B') 18\n",
      "A 6\n",
      "B 10\n"
     ]
    }
   ],
   "source": [
    "print_all_nodes(dd)"
   ]
  },
  {
   "cell_type": "code",
   "execution_count": null,
   "metadata": {},
   "outputs": [],
   "source": []
  }
 ],
 "metadata": {
  "kernelspec": {
   "display_name": "Python 3",
   "language": "python",
   "name": "python3"
  },
  "language_info": {
   "codemirror_mode": {
    "name": "ipython",
    "version": 3
   },
   "file_extension": ".py",
   "mimetype": "text/x-python",
   "name": "python",
   "nbconvert_exporter": "python",
   "pygments_lexer": "ipython3",
   "version": "3.10.12"
  }
 },
 "nbformat": 4,
 "nbformat_minor": 2
}
