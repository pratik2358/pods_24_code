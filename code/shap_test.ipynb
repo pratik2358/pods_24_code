{
 "cells": [
  {
   "cell_type": "code",
   "execution_count": 2,
   "metadata": {},
   "outputs": [],
   "source": [
    "from dDC_compute import input_gates, EShap, parse, compute, EShap_naive\n",
    "import pandas as pd\n",
    "import time\n",
    "import matplotlib.pyplot as plt\n",
    "import numpy as np"
   ]
  },
  {
   "cell_type": "markdown",
   "metadata": {},
   "source": [
    "### 3 variables 8 nodes"
   ]
  },
  {
   "cell_type": "code",
   "execution_count": 3,
   "metadata": {},
   "outputs": [
    {
     "name": "stdout",
     "output_type": "stream",
     "text": [
      "A\n",
      "0.3333333333333333 Naive Time: 0.007403135299682617 sec\n",
      "0.3333333333333333 Ours Time: 0.0049092769622802734 sec \n",
      "\n",
      "B\n",
      "-0.16666666666666666 Naive Time: 0.0057544708251953125 sec\n",
      "-0.16666666666666666 Ours Time: 0.0033636093139648438 sec \n",
      "\n",
      "C\n",
      "0.8333333333333333 Naive Time: 0.005793094635009766 sec\n",
      "0.8333333333333333 Ours Time: 0.004098176956176758 sec \n",
      "\n",
      "Shap sum 0.9999999999999999\n",
      "All true query value 1.0\n"
     ]
    }
   ],
   "source": [
    "exp = (\"OR\", (\"AND\", \"A\", (\"AND\", \"B\", \"C\")), (\"AND\", (\"NOT\", \"B\"), (\"AND\", \"C\", (\"OR\", \"A\", (\"NOT\", \"A\")))))\n",
    "query = parse(exp, {}, [])\n",
    "data = pd.DataFrame({\"t\": [\"A\",\"B\",\"C\"], \"p\":[1,1,1]})\n",
    "shap_sum = 0\n",
    "t_shap = []\n",
    "t_shap_naive = []\n",
    "for x in ['A','B','C']:\n",
    "    print(x)\n",
    "    t1 = time.time()\n",
    "    eshap = EShap(query, x, data)\n",
    "    t1 = time.time() - t1\n",
    "    t_shap.append(t1)\n",
    "    t2 = time.time()\n",
    "    eshap_naive = EShap_naive(query, x, data)\n",
    "    t2 = time.time() - t2\n",
    "    t_shap_naive.append(t2)\n",
    "    print(eshap_naive, \"Naive\", \"Time:\", t2, \"sec\")\n",
    "    print(eshap, \"Ours\", \"Time:\", t1, \"sec\", '\\n')\n",
    "    shap_sum += eshap\n",
    "print('Shap sum',shap_sum)\n",
    "print(\"All true query value\", float(compute(query,{\"A\":True, \"B\":True, \"C\":True}).value))"
   ]
  },
  {
   "cell_type": "markdown",
   "metadata": {},
   "source": [
    "### 3 variables, 6 nodes"
   ]
  },
  {
   "cell_type": "code",
   "execution_count": 4,
   "metadata": {},
   "outputs": [
    {
     "name": "stdout",
     "output_type": "stream",
     "text": [
      "A\n",
      "0.3333333333333333 Naive Time: 0.006598472595214844 sec\n",
      "0.3333333333333333 Ours Time: 0.005045413970947266 sec \n",
      "\n",
      "B\n",
      "-0.16666666666666666 Naive Time: 0.005769491195678711 sec\n",
      "-0.16666666666666666 Ours Time: 0.0046291351318359375 sec \n",
      "\n",
      "C\n",
      "0.8333333333333333 Naive Time: 0.00576329231262207 sec\n",
      "0.8333333333333333 Ours Time: 0.003977537155151367 sec \n",
      "\n",
      "Shap sum 0.9999999999999999\n",
      "All true query value 1.0\n"
     ]
    }
   ],
   "source": [
    "exp1 = (\"AND\", (\"OR\", (\"AND\", \"A\", (\"NOT\", \"B\")), (\"AND\", (\"NOT\", \"A\"), \"B\")), \"C\")\n",
    "query1 = parse(exp, {}, [])\n",
    "data1 = pd.DataFrame({\"t\": [\"A\",\"B\",\"C\"], \"p\":[1,1,1]})\n",
    "shap_sum = 0\n",
    "t_shap1 = []\n",
    "t_shap_naive1 = []\n",
    "for x in ['A','B','C']:\n",
    "    print(x)\n",
    "    t1 = time.time()\n",
    "    eshap1 = EShap(query1, x, data1)\n",
    "    t1 = time.time() - t1\n",
    "    t_shap1.append(t1)\n",
    "    t2 = time.time()\n",
    "    eshap_naive1 = EShap_naive(query1, x, data1)\n",
    "    t2 = time.time() - t2\n",
    "    t_shap_naive1.append(t2)\n",
    "    print(eshap_naive1, \"Naive\", \"Time:\", t2, \"sec\")\n",
    "    print(eshap1, \"Ours\", \"Time:\", t1, \"sec\", '\\n')\n",
    "    shap_sum += eshap1\n",
    "print('Shap sum',shap_sum)\n",
    "print(\"All true query value\", float(compute(query1,{\"A\":True, \"B\":True, \"C\":True}).value))"
   ]
  },
  {
   "cell_type": "markdown",
   "metadata": {},
   "source": [
    "### 2 variables 2 nodes"
   ]
  },
  {
   "cell_type": "code",
   "execution_count": 6,
   "metadata": {},
   "outputs": [
    {
     "name": "stdout",
     "output_type": "stream",
     "text": [
      "A\n",
      "0.5 Naive Time: 0.0007731914520263672 sec\n",
      "0.5 Ours Time: 0.002748250961303711 sec \n",
      "\n",
      "B\n",
      "-0.5 Naive Time: 0.0007276535034179688 sec\n",
      "-0.5 Ours Time: 0.0007143020629882812 sec \n",
      "\n",
      "Shap sum 0.0\n",
      "All true query value 0.0\n"
     ]
    }
   ],
   "source": [
    "exp2 = (\"AND\", \"A\", (\"NOT\",\"B\"))\n",
    "query2 = parse(exp2, {}, [])\n",
    "data2 = pd.DataFrame({\"t\": [\"A\", \"B\"], \"p\":[1, 1]})\n",
    "shap_sum = 0\n",
    "t_shap2 = []\n",
    "t_shap_naive2 = []\n",
    "for x in input_gates(query2):\n",
    "    print(x)\n",
    "    t1 = time.time()\n",
    "    eshap2 = EShap(query2, x, data2)\n",
    "    t1 = time.time() - t1\n",
    "    t_shap2.append(t1)\n",
    "    t2 = time.time()\n",
    "    eshap_naive2 = EShap_naive(query2, x, data2)\n",
    "    t2 = time.time() - t2\n",
    "    t_shap_naive2.append(t2)\n",
    "    print(eshap_naive2, \"Naive\", \"Time:\", t2, \"sec\")\n",
    "    print(eshap2, \"Ours\", \"Time:\", t1, \"sec\", '\\n')\n",
    "    shap_sum += eshap2\n",
    "print('Shap sum',shap_sum)\n",
    "print(\"All true query value\", float(compute(query2,{\"A\":True, \"B\":True}).value))"
   ]
  },
  {
   "cell_type": "markdown",
   "metadata": {},
   "source": [
    "### 2 variables 1 node"
   ]
  },
  {
   "cell_type": "code",
   "execution_count": 4,
   "metadata": {},
   "outputs": [
    {
     "name": "stdout",
     "output_type": "stream",
     "text": [
      "A\n",
      "0.5 Naive Time: 0.0005540847778320312 sec\n",
      "0.5 Ours Time: 0.0008521080017089844 sec \n",
      "\n",
      "B\n",
      "0.5 Naive Time: 0.0005199909210205078 sec\n",
      "0.5 Ours Time: 0.0004830360412597656 sec \n",
      "\n",
      "Shap sum 1.0\n",
      "All true query value 1.0\n"
     ]
    }
   ],
   "source": [
    "exp3 = (\"OR\", \"A\", \"B\")\n",
    "query3 = parse(exp3, {}, [])\n",
    "data3 = pd.DataFrame({\"t\": [\"A\", \"B\"], \"p\":[1, 1]})\n",
    "shap_sum = 0\n",
    "t_shap3 = []\n",
    "t_shap_naive3 = []\n",
    "for x in input_gates(query3):\n",
    "    print(x)\n",
    "    t1 = time.time()\n",
    "    eshap3 = EShap(query3, x, data3)\n",
    "    t1 = time.time() - t1\n",
    "    t_shap3.append(t1)\n",
    "    t2 = time.time()\n",
    "    eshap_naive3 = EShap_naive(query3, x, data3)\n",
    "    t2 = time.time() - t2\n",
    "    t_shap_naive3.append(t2)\n",
    "    print(eshap_naive3, \"Naive\", \"Time:\", t2, \"sec\")\n",
    "    print(eshap3, \"Ours\", \"Time:\", t1, \"sec\", '\\n')\n",
    "    shap_sum += eshap3\n",
    "print('Shap sum',shap_sum)\n",
    "print(\"All true query value\", float(compute(query3,{\"A\":True, \"B\":True}).value))"
   ]
  },
  {
   "cell_type": "markdown",
   "metadata": {},
   "source": [
    "### 4 variables 6 nodes"
   ]
  },
  {
   "cell_type": "code",
   "execution_count": 7,
   "metadata": {},
   "outputs": [
    {
     "name": "stdout",
     "output_type": "stream",
     "text": [
      "A\n",
      "0.3333333333333333 Naive Time: 0.013499975204467773 sec\n",
      "0.3333333333333333 Ours Time: 0.005042314529418945 sec \n",
      "\n",
      "B\n",
      "0.0 Naive Time: 0.025203466415405273 sec\n",
      "0.0 Ours Time: 0.011240243911743164 sec \n",
      "\n",
      "D\n",
      "0.3333333333333333 Naive Time: 0.020014286041259766 sec\n",
      "0.3333333333333333 Ours Time: 0.007798433303833008 sec \n",
      "\n",
      "C\n",
      "0.3333333333333333 Naive Time: 0.013612747192382812 sec\n",
      "0.3333333333333333 Ours Time: 0.003735780715942383 sec \n",
      "\n",
      "Shap sum 1.0\n",
      "All true query value 1.0\n"
     ]
    }
   ],
   "source": [
    "exp4 = (\"AND\", (\"OR\", (\"AND\", \"A\", (\"NOT\", \"B\")), (\"AND\", \"A\", \"B\")), (\"AND\", \"C\", \"D\"))\n",
    "query4 = parse(exp4, {}, [])\n",
    "data4 = pd.DataFrame({\"t\": [\"A\",\"B\",\"C\",\"D\"], \"p\":[1,1,1,1]})\n",
    "shap_sum = 0\n",
    "t_shap4 = []\n",
    "t_shap_naive4 = []\n",
    "for x in input_gates(query4):\n",
    "    print(x)\n",
    "    t1 = time.time()\n",
    "    eshap4 = EShap(query4, x, data4)\n",
    "    t1 = time.time() - t1\n",
    "    t_shap4.append(t1)\n",
    "    t2 = time.time()\n",
    "    eshap_naive4 = EShap_naive(query4, x, data4)\n",
    "    t2 = time.time() - t2\n",
    "    t_shap_naive4.append(t2)\n",
    "    print(eshap_naive4, \"Naive\", \"Time:\", t2, \"sec\")\n",
    "    print(eshap4, \"Ours\", \"Time:\", t1, \"sec\", '\\n')\n",
    "    shap_sum += eshap4\n",
    "print('Shap sum',shap_sum)\n",
    "print(\"All true query value\", float(compute(query4,{\"A\":True, \"B\":True, \"C\":True, \"D\":True}).value))"
   ]
  },
  {
   "cell_type": "code",
   "execution_count": 8,
   "metadata": {},
   "outputs": [],
   "source": [
    "g1 = (\"AND\", \"A\", \"B\")\n",
    "g2 = (\"AND\", \"A\", (\"NOT\", \"B\"))\n",
    "g3 = (\"OR\", g1, g2)\n",
    "\n",
    "g4 = (\"AND\", \"E\", \"F\")\n",
    "g5 = (\"AND\", (\"NOT\", \"E\"), (\"NOT\", \"F\"))\n",
    "g6 = (\"OR\", g4, g5)\n",
    "g7 = (\"AND\", \"C\", \"D\")\n",
    "g8 = (\"AND\", g6, g7)\n",
    "\n",
    "g9 = (\"AND\", g3, g8)\n",
    "\n",
    "g10 = (\"AND\", \"H\", (\"NOT\", \"I\"))\n",
    "g11 = (\"AND\", (\"NOT\",\"H\"), (\"NOT\", \"I\"))\n",
    "g12 = (\"OR\", g10, g11)\n",
    "g13 = (\"AND\", \"G\", g12)\n",
    "\n",
    "g = (\"AND\", g9, g13)"
   ]
  },
  {
   "cell_type": "markdown",
   "metadata": {},
   "source": [
    "### 4 variables 7 nodes"
   ]
  },
  {
   "cell_type": "code",
   "execution_count": 10,
   "metadata": {},
   "outputs": [
    {
     "name": "stdout",
     "output_type": "stream",
     "text": [
      "F\n",
      "0.16666666666666669 Naive Time: 0.013592243194580078 sec\n",
      "0.16666666666666669 Ours Time: 0.004358053207397461 sec \n",
      "\n",
      "E\n",
      "0.16666666666666669 Naive Time: 0.013562440872192383 sec\n",
      "0.16666666666666669 Ours Time: 0.004196643829345703 sec \n",
      "\n",
      "D\n",
      "0.3333333333333333 Naive Time: 0.012629270553588867 sec\n",
      "0.3333333333333333 Ours Time: 0.004300832748413086 sec \n",
      "\n",
      "C\n",
      "0.3333333333333333 Naive Time: 0.012886524200439453 sec\n",
      "0.3333333333333333 Ours Time: 0.003753662109375 sec \n",
      "\n",
      "Shap sum 1.0\n",
      "All true query value 1.0\n"
     ]
    }
   ],
   "source": [
    "query5 = parse(g8, {}, [])\n",
    "data5 = pd.DataFrame({\"t\": [\"C\",\"D\",\"E\",\"F\"], \"p\":[1,1,1,1]})\n",
    "shap_sum = 0\n",
    "t_shap5 = []\n",
    "t_shap_naive5 = []\n",
    "for x in input_gates(query5):\n",
    "    print(x)\n",
    "    t1 = time.time()\n",
    "    eshap5 = EShap(query5, x, data5)\n",
    "    t1 = time.time() - t1\n",
    "    t_shap5.append(t1)\n",
    "    t2 = time.time()\n",
    "    eshap_naive5 = EShap_naive(query5, x, data5)\n",
    "    t2 = time.time() - t2\n",
    "    t_shap_naive5.append(t2)\n",
    "    print(eshap_naive5, \"Naive\", \"Time:\", t2, \"sec\")\n",
    "    print(eshap5, \"Ours\", \"Time:\", t1, \"sec\", '\\n')\n",
    "    shap_sum += eshap5\n",
    "print('Shap sum',shap_sum)\n",
    "print(\"All true query value\", float(compute(query5,{v:True for v in input_gates(query5)}).value))"
   ]
  },
  {
   "cell_type": "markdown",
   "metadata": {},
   "source": [
    "### 6 variables 12 nodes"
   ]
  },
  {
   "cell_type": "code",
   "execution_count": 11,
   "metadata": {},
   "outputs": [
    {
     "name": "stdout",
     "output_type": "stream",
     "text": [
      "A\n",
      "0.23333333333333334 Naive Time: 0.2228240966796875 sec\n",
      "0.23333333333333334 Ours Time: 0.006880044937133789 sec \n",
      "\n",
      "E\n",
      "0.15 Naive Time: 0.21634244918823242 sec\n",
      "0.15 Ours Time: 0.007315635681152344 sec \n",
      "\n",
      "F\n",
      "0.15 Naive Time: 0.2165224552154541 sec\n",
      "0.15 Ours Time: 0.006978273391723633 sec \n",
      "\n",
      "D\n",
      "0.23333333333333334 Naive Time: 0.2185354232788086 sec\n",
      "0.23333333333333334 Ours Time: 0.0064504146575927734 sec \n",
      "\n",
      "B\n",
      "0.0 Naive Time: 0.22120308876037598 sec\n",
      "0.0 Ours Time: 0.008169412612915039 sec \n",
      "\n",
      "C\n",
      "0.23333333333333334 Naive Time: 0.23407983779907227 sec\n",
      "0.23333333333333334 Ours Time: 0.007574319839477539 sec \n",
      "\n",
      "Shap sum 1.0\n",
      "All true query value 1.0\n"
     ]
    }
   ],
   "source": [
    "query6 = parse(g9, {}, [])\n",
    "data6 = pd.DataFrame({\"t\": [\"A\",\"B\",\"C\",\"D\",\"E\",\"F\"], \"p\":[1,1,1,1,1,1]})\n",
    "shap_sum = 0\n",
    "t_shap6 = []\n",
    "t_shap_naive6 = []\n",
    "for x in input_gates(query6):\n",
    "    print(x)\n",
    "    t1 = time.time()\n",
    "    eshap6 = EShap(query6, x, data6)\n",
    "    t1 = time.time() - t1\n",
    "    t_shap6.append(t1)\n",
    "    t2 = time.time()\n",
    "    eshap_naive6 = EShap_naive(query6, x, data6)\n",
    "    t2 = time.time() - t2\n",
    "    t_shap_naive6.append(t2)\n",
    "    print(eshap_naive6, \"Naive\", \"Time:\", t2, \"sec\")\n",
    "    print(eshap6, \"Ours\", \"Time:\", t1, \"sec\", '\\n')\n",
    "    shap_sum += eshap6\n",
    "print('Shap sum',shap_sum)\n",
    "print(\"All true query value\", float(compute(query6,{v:True for v in input_gates(query6)}).value))"
   ]
  },
  {
   "cell_type": "markdown",
   "metadata": {},
   "source": [
    "### 8 variables 19 nodes"
   ]
  },
  {
   "cell_type": "code",
   "execution_count": 9,
   "metadata": {},
   "outputs": [
    {
     "name": "stdout",
     "output_type": "stream",
     "text": [
      "A\n",
      "0.049999999999999996 Naive Time: 4.6935930252075195 sec\n",
      "0.04999999999999999 Ours Time: 0.011124134063720703 sec \n",
      "\n",
      "D\n",
      "0.049999999999999996 Naive Time: 5.11628794670105 sec\n",
      "0.04999999999999999 Ours Time: 0.012902259826660156 sec \n",
      "\n",
      "I\n",
      "-0.18333333333333332 Naive Time: 4.997355937957764 sec\n",
      "-0.1833333333333333 Ours Time: 0.011568784713745117 sec \n",
      "\n",
      "E\n",
      "0.016666666666666663 Naive Time: 4.997836112976074 sec\n",
      "0.016666666666666663 Ours Time: 0.014984846115112305 sec \n",
      "\n",
      "H\n",
      "0.0 Naive Time: 5.168933868408203 sec\n",
      "0.0 Ours Time: 0.015935182571411133 sec \n",
      "\n",
      "B\n",
      "0.0 Naive Time: 5.172228813171387 sec\n",
      "0.0 Ours Time: 0.016761064529418945 sec \n",
      "\n",
      "F\n",
      "0.016666666666666663 Naive Time: 5.180880069732666 sec\n",
      "0.016666666666666663 Ours Time: 0.015569925308227539 sec \n",
      "\n",
      "C\n",
      "0.049999999999999996 Naive Time: 5.224364757537842 sec\n",
      "0.04999999999999999 Ours Time: 0.012119054794311523 sec \n",
      "\n",
      "Shap sum 0.0\n",
      "All true query value 0.0\n"
     ]
    }
   ],
   "source": [
    "query7 = parse((\"AND\", g9, g12), {}, [])\n",
    "data7 = pd.DataFrame({\"t\": [\"A\",\"B\",\"C\",\"D\",\"E\",\"F\",\"H\",\"I\"], \"p\":[1,1,1,1,1,1,1,1]})\n",
    "shap_sum = 0\n",
    "t_shap7 = []\n",
    "t_shap_naive7 = []\n",
    "for x in input_gates(query7):\n",
    "    print(x)\n",
    "    t1 = time.time()\n",
    "    eshap7 = EShap(query7, x, data7)\n",
    "    t1 = time.time() - t1\n",
    "    t_shap7.append(t1)\n",
    "    t2 = time.time()\n",
    "    eshap_naive7 = EShap_naive(query7, x, data7)\n",
    "    t2 = time.time() - t2\n",
    "    t_shap_naive7.append(t2)\n",
    "    print(eshap_naive7, \"Naive\", \"Time:\", t2, \"sec\")\n",
    "    print(eshap7, \"Ours\", \"Time:\", t1, \"sec\", '\\n')\n",
    "    shap_sum += eshap7\n",
    "print('Shap sum',shap_sum)\n",
    "print(\"All true query value\", float(compute(query7,{v:True for v in input_gates(query7)}).value))"
   ]
  },
  {
   "cell_type": "markdown",
   "metadata": {},
   "source": [
    "### 9 variables 20 nodes"
   ]
  },
  {
   "cell_type": "code",
   "execution_count": 10,
   "metadata": {},
   "outputs": [
    {
     "name": "stdout",
     "output_type": "stream",
     "text": [
      "A\n",
      "0.03095238095238095 Naive Time: 18.051841974258423 sec\n",
      "0.03095238095238095 Ours Time: 0.013918876647949219 sec \n",
      "\n",
      "D\n",
      "0.03095238095238095 Naive Time: 17.65761399269104 sec\n",
      "0.03095238095238095 Ours Time: 0.013216018676757812 sec \n",
      "\n",
      "I\n",
      "-0.15238095238095237 Naive Time: 17.637621879577637 sec\n",
      "-0.15238095238095237 Ours Time: 0.013082265853881836 sec \n",
      "\n",
      "E\n",
      "0.014285714285714285 Naive Time: 17.512749195098877 sec\n",
      "0.014285714285714285 Ours Time: 0.017763853073120117 sec \n",
      "\n",
      "H\n",
      "0.0 Naive Time: 17.107800722122192 sec\n",
      "0.0 Ours Time: 0.01819896697998047 sec \n",
      "\n",
      "G\n",
      "0.03095238095238095 Naive Time: 17.286623001098633 sec\n",
      "0.03095238095238095 Ours Time: 0.01446986198425293 sec \n",
      "\n",
      "B\n",
      "0.0 Naive Time: 17.410332202911377 sec\n",
      "0.0 Ours Time: 0.019411087036132812 sec \n",
      "\n",
      "F\n",
      "0.014285714285714285 Naive Time: 17.53767967224121 sec\n",
      "0.014285714285714285 Ours Time: 0.017081260681152344 sec \n",
      "\n",
      "C\n",
      "0.03095238095238095 Naive Time: 17.483834981918335 sec\n",
      "0.03095238095238095 Ours Time: 0.013036012649536133 sec \n",
      "\n",
      "Shap sum 1.734723475976807e-17\n",
      "All true query value 0.0\n"
     ]
    }
   ],
   "source": [
    "query8 = parse(g, {}, [])\n",
    "data8 = pd.DataFrame({\"t\": [\"A\",\"B\",\"C\",\"D\",\"E\",\"F\",\"G\",\"H\",\"I\"], \"p\":[1,1,1,1,1,1,1,1,1]})\n",
    "shap_sum = 0\n",
    "t_shap8 = []\n",
    "t_shap_naive8 = []\n",
    "for x in input_gates(query8):\n",
    "    print(x)\n",
    "    t1 = time.time()\n",
    "    eshap8 = EShap(query8, x, data8)\n",
    "    t1 = time.time() - t1\n",
    "    t_shap8.append(t1)\n",
    "    t2 = time.time()\n",
    "    eshap_naive8 = EShap_naive(query8, x, data8)\n",
    "    t2 = time.time() - t2\n",
    "    t_shap_naive8.append(t2)\n",
    "    print(eshap_naive8, \"Naive\", \"Time:\", t2, \"sec\")\n",
    "    print(eshap8, \"Ours\", \"Time:\", t1, \"sec\", '\\n')\n",
    "    shap_sum += eshap8\n",
    "print('Shap sum',shap_sum)\n",
    "print(\"All true query value\", float(compute(query8,{v:True for v in input_gates(query8)}).value))"
   ]
  },
  {
   "cell_type": "code",
   "execution_count": 25,
   "metadata": {},
   "outputs": [],
   "source": [
    "shaps = [t_shap3, t_shap2, t_shap1, t_shap, t_shap4, t_shap5, t_shap6, t_shap7, t_shap8]\n",
    "shaps_naive = [t_shap_naive3, t_shap_naive2, t_shap_naive1, t_shap_naive, t_shap_naive4, t_shap_naive5, t_shap_naive6, t_shap_naive7, t_shap_naive8]"
   ]
  },
  {
   "cell_type": "code",
   "execution_count": 26,
   "metadata": {},
   "outputs": [],
   "source": [
    "x_lab = ['2-1', '2-2', '3-6', '3-8', '4-6', '4-7', '6-12', '8-19', '9-20']"
   ]
  },
  {
   "cell_type": "code",
   "execution_count": 28,
   "metadata": {},
   "outputs": [
    {
     "data": {
      "image/png": "[encoded data removed]",
      "text/plain": [
       "<Figure size 640x480 with 1 Axes>"
      ]
     },
     "metadata": {},
     "output_type": "display_data"
    }
   ],
   "source": [
    "plt.plot(x_lab, [np.mean(t) for t in shaps], label = \"EShap\")\n",
    "plt.fill_between(x_lab, [np.mean(t)+np.std(t) for t in shaps], [np.mean(t)-np.std(t) for t in shaps], alpha = 0.5)\n",
    "plt.xlabel(\"Variables - Nodes\")\n",
    "plt.ylabel(\"Time (s)\")\n",
    "plt.legend()\n",
    "plt.savefig(\"Eshap.pdf\")\n",
    "plt.savefig(\"Eshap.png\")\n",
    "plt.show()"
   ]
  },
  {
   "cell_type": "code",
   "execution_count": 29,
   "metadata": {},
   "outputs": [
    {
     "data": {
      "image/png": "[encoded data removed]",
      "text/plain": [
       "<Figure size 640x480 with 1 Axes>"
      ]
     },
     "metadata": {},
     "output_type": "display_data"
    }
   ],
   "source": [
    "plt.plot(x_lab, [np.mean(t) for t in shaps], label = \"EShap\")\n",
    "plt.fill_between(x_lab, [np.mean(t)+np.std(t) for t in shaps], [np.mean(t)-np.std(t) for t in shaps], alpha = 0.5)\n",
    "\n",
    "plt.plot(x_lab, [np.mean(t) for t in shaps_naive], label = \"EShap_naive\")\n",
    "plt.fill_between(x_lab, [np.mean(t)+np.std(t) for t in shaps_naive], [np.mean(t)-np.std(t) for t in shaps_naive], alpha = 0.5)\n",
    "plt.xlabel(\"Variables - Nodes\")\n",
    "plt.ylabel(\"Time (s)\")\n",
    "plt.legend()\n",
    "plt.savefig(\"Eshap_vs_Eshap_naive.pdf\")\n",
    "plt.savefig(\"Eshap_vs_Eshap_naive.png\")\n",
    "plt.show()"
   ]
  },
  {
   "cell_type": "code",
   "execution_count": null,
   "metadata": {},
   "outputs": [],
   "source": []
  }
 ],
 "metadata": {
  "kernelspec": {
   "display_name": "Python 3",
   "language": "python",
   "name": "python3"
  },
  "language_info": {
   "codemirror_mode": {
    "name": "ipython",
    "version": 3
   },
   "file_extension": ".py",
   "mimetype": "text/x-python",
   "name": "python",
   "nbconvert_exporter": "python",
   "pygments_lexer": "ipython3",
   "version": "3.10.12"
  }
 },
 "nbformat": 4,
 "nbformat_minor": 2
}
